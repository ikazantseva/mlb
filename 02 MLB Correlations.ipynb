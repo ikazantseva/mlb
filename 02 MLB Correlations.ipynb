{
 "cells": [
  {
   "cell_type": "code",
   "execution_count": 2,
   "metadata": {},
   "outputs": [],
   "source": [
    "import pandas as pd"
   ]
  },
  {
   "cell_type": "code",
   "execution_count": 3,
   "metadata": {},
   "outputs": [],
   "source": [
    "mlb = pd.read_csv('/Users/nikolay/Desktop/MLB dataset/baseballdata.csv')"
   ]
  },
  {
   "cell_type": "code",
   "execution_count": 4,
   "metadata": {},
   "outputs": [],
   "source": [
    "mlb.columns = ['Unnamed: 0', 'Rk', 'Year', 'Team', 'League', 'GamePlayed', 'Wins', 'Losses', 'Ties', 'WinLoss%',\n",
    "       'pythWinLoss', 'Finish', 'GamesBehind', 'Playoffs', 'RunsScored', 'OppontRunScored', 'Attendance',\n",
    "       'BatAge', 'PAge', 'PlayersInGame', 'PitchersInGame', 'Top.Player', 'Managers', 'current']"
   ]
  },
  {
   "cell_type": "code",
   "execution_count": 7,
   "metadata": {},
   "outputs": [],
   "source": [
    "splitPlayer = mlb['Top.Player']\n",
    "listOfWAR = []\n",
    "for name in splitPlayer:\n",
    "    start = name.find(\"(\") + 1\n",
    "    end = name.find(\")\")\n",
    "    value = name[start:end]\n",
    "    listOfWAR.append(float(value))"
   ]
  },
  {
   "cell_type": "code",
   "execution_count": 9,
   "metadata": {},
   "outputs": [],
   "source": [
    "mlb['WAR'] = listOfWAR #Wins Above Replacement(players total contributions to their team)"
   ]
  },
  {
   "cell_type": "code",
   "execution_count": 10,
   "metadata": {},
   "outputs": [
    {
     "data": {
      "text/plain": [
       "1.1"
      ]
     },
     "execution_count": 10,
     "metadata": {},
     "output_type": "execute_result"
    }
   ],
   "source": [
    "min(mlb['WAR']) "
   ]
  },
  {
   "cell_type": "code",
   "execution_count": 11,
   "metadata": {},
   "outputs": [
    {
     "data": {
      "text/plain": [
       "16.2"
      ]
     },
     "execution_count": 11,
     "metadata": {},
     "output_type": "execute_result"
    }
   ],
   "source": [
    "max(mlb['WAR'])"
   ]
  },
  {
   "cell_type": "code",
   "execution_count": 12,
   "metadata": {},
   "outputs": [
    {
     "data": {
      "text/plain": [
       "0.4405439930826163"
      ]
     },
     "execution_count": 12,
     "metadata": {},
     "output_type": "execute_result"
    }
   ],
   "source": [
    "mlb['Wins'].corr(mlb['WAR']) #could be from -1 to 1 (as higher player total contribution of the top player to their\n",
    "                               #team as greater the number of the Wins)"
   ]
  },
  {
   "cell_type": "code",
   "execution_count": 13,
   "metadata": {},
   "outputs": [
    {
     "data": {
      "text/plain": [
       "-0.5967889556315191"
      ]
     },
     "execution_count": 13,
     "metadata": {},
     "output_type": "execute_result"
    }
   ],
   "source": [
    "mlb['Wins'].corr(mlb['Losses']) #Negative correlation"
   ]
  },
  {
   "cell_type": "code",
   "execution_count": 14,
   "metadata": {},
   "outputs": [
    {
     "data": {
      "text/plain": [
       "0.4131330600384595"
      ]
     },
     "execution_count": 14,
     "metadata": {},
     "output_type": "execute_result"
    }
   ],
   "source": [
    "mlb['Wins'].corr(mlb['GamePlayed']) #as higher the number of games played as more wins "
   ]
  },
  {
   "cell_type": "code",
   "execution_count": 15,
   "metadata": {},
   "outputs": [
    {
     "data": {
      "text/plain": [
       "0.5975007040754784"
      ]
     },
     "execution_count": 15,
     "metadata": {},
     "output_type": "execute_result"
    }
   ],
   "source": [
    "mlb['Losses'].corr(mlb['OppontRunScored']) #as more opponents run scored as more looses team get"
   ]
  },
  {
   "cell_type": "code",
   "execution_count": 16,
   "metadata": {},
   "outputs": [
    {
     "data": {
      "text/plain": [
       "0.5684351059637577"
      ]
     },
     "execution_count": 16,
     "metadata": {},
     "output_type": "execute_result"
    }
   ],
   "source": [
    "mlb['Wins'].corr(mlb['RunsScored'])"
   ]
  },
  {
   "cell_type": "code",
   "execution_count": 17,
   "metadata": {},
   "outputs": [
    {
     "data": {
      "text/plain": [
       "0.3918495921380999"
      ]
     },
     "execution_count": 17,
     "metadata": {},
     "output_type": "execute_result"
    }
   ],
   "source": [
    "listOfAttendanceString = mlb['Attendance']\n",
    "listOfAttendanceFloat = []\n",
    "for attendance in listOfAttendanceString:\n",
    "    attendanceString = str(attendance)\n",
    "    attendenceFloat = float(attendanceString.replace(',', ''))\n",
    "    listOfAttendanceFloat.append(attendenceFloat)\n",
    "    \n",
    "mlb['Attendance'] = listOfAttendanceFloat\n",
    "mlb['Wins'].corr(mlb['Attendance'])"
   ]
  },
  {
   "cell_type": "code",
   "execution_count": 18,
   "metadata": {},
   "outputs": [
    {
     "data": {
      "text/plain": [
       "0.3844277638766472"
      ]
     },
     "execution_count": 18,
     "metadata": {},
     "output_type": "execute_result"
    }
   ],
   "source": [
    "mlb['PitchersInGame'].corr(mlb['OppontRunScored'])"
   ]
  },
  {
   "cell_type": "code",
   "execution_count": 19,
   "metadata": {},
   "outputs": [],
   "source": [
    "mlb['PitcherPerGame'] = mlb.GamePlayed / mlb.PitchersInGame"
   ]
  },
  {
   "cell_type": "code",
   "execution_count": 20,
   "metadata": {
    "scrolled": true
   },
   "outputs": [
    {
     "data": {
      "text/html": [
       "<div>\n",
       "<style scoped>\n",
       "    .dataframe tbody tr th:only-of-type {\n",
       "        vertical-align: middle;\n",
       "    }\n",
       "\n",
       "    .dataframe tbody tr th {\n",
       "        vertical-align: top;\n",
       "    }\n",
       "\n",
       "    .dataframe thead th {\n",
       "        text-align: right;\n",
       "    }\n",
       "</style>\n",
       "<table border=\"1\" class=\"dataframe\">\n",
       "  <thead>\n",
       "    <tr style=\"text-align: right;\">\n",
       "      <th></th>\n",
       "      <th>Unnamed: 0</th>\n",
       "      <th>Rk</th>\n",
       "      <th>Year</th>\n",
       "      <th>Team</th>\n",
       "      <th>League</th>\n",
       "      <th>GamePlayed</th>\n",
       "      <th>Wins</th>\n",
       "      <th>Losses</th>\n",
       "      <th>Ties</th>\n",
       "      <th>WinLoss%</th>\n",
       "      <th>...</th>\n",
       "      <th>Attendance</th>\n",
       "      <th>BatAge</th>\n",
       "      <th>PAge</th>\n",
       "      <th>PlayersInGame</th>\n",
       "      <th>PitchersInGame</th>\n",
       "      <th>Top.Player</th>\n",
       "      <th>Managers</th>\n",
       "      <th>current</th>\n",
       "      <th>WAR</th>\n",
       "      <th>PitcherPerGame</th>\n",
       "    </tr>\n",
       "  </thead>\n",
       "  <tbody>\n",
       "    <tr>\n",
       "      <th>0</th>\n",
       "      <td>1</td>\n",
       "      <td>1</td>\n",
       "      <td>2016</td>\n",
       "      <td>Arizona Diamondbacks</td>\n",
       "      <td>NL West</td>\n",
       "      <td>162</td>\n",
       "      <td>69</td>\n",
       "      <td>93</td>\n",
       "      <td>0</td>\n",
       "      <td>0.426</td>\n",
       "      <td>...</td>\n",
       "      <td>2036216.0</td>\n",
       "      <td>26.7</td>\n",
       "      <td>26.4</td>\n",
       "      <td>50</td>\n",
       "      <td>29</td>\n",
       "      <td>J.Segura (5.7)</td>\n",
       "      <td>C.Hale (69-93)</td>\n",
       "      <td>Arizona Diamondbacks</td>\n",
       "      <td>5.7</td>\n",
       "      <td>5.586207</td>\n",
       "    </tr>\n",
       "    <tr>\n",
       "      <th>1</th>\n",
       "      <td>2</td>\n",
       "      <td>2</td>\n",
       "      <td>2015</td>\n",
       "      <td>Arizona Diamondbacks</td>\n",
       "      <td>NL West</td>\n",
       "      <td>162</td>\n",
       "      <td>79</td>\n",
       "      <td>83</td>\n",
       "      <td>0</td>\n",
       "      <td>0.488</td>\n",
       "      <td>...</td>\n",
       "      <td>2080145.0</td>\n",
       "      <td>26.6</td>\n",
       "      <td>27.1</td>\n",
       "      <td>50</td>\n",
       "      <td>27</td>\n",
       "      <td>P.Goldschmidt (8.8)</td>\n",
       "      <td>C.Hale (79-83)</td>\n",
       "      <td>Arizona Diamondbacks</td>\n",
       "      <td>8.8</td>\n",
       "      <td>6.000000</td>\n",
       "    </tr>\n",
       "    <tr>\n",
       "      <th>2</th>\n",
       "      <td>3</td>\n",
       "      <td>3</td>\n",
       "      <td>2014</td>\n",
       "      <td>Arizona Diamondbacks</td>\n",
       "      <td>NL West</td>\n",
       "      <td>162</td>\n",
       "      <td>64</td>\n",
       "      <td>98</td>\n",
       "      <td>0</td>\n",
       "      <td>0.395</td>\n",
       "      <td>...</td>\n",
       "      <td>2073730.0</td>\n",
       "      <td>27.6</td>\n",
       "      <td>28.0</td>\n",
       "      <td>52</td>\n",
       "      <td>25</td>\n",
       "      <td>P.Goldschmidt (4.5)</td>\n",
       "      <td>K.Gibson (63-96) and A.Trammell (1-2)</td>\n",
       "      <td>Arizona Diamondbacks</td>\n",
       "      <td>4.5</td>\n",
       "      <td>6.480000</td>\n",
       "    </tr>\n",
       "    <tr>\n",
       "      <th>3</th>\n",
       "      <td>4</td>\n",
       "      <td>4</td>\n",
       "      <td>2013</td>\n",
       "      <td>Arizona Diamondbacks</td>\n",
       "      <td>NL West</td>\n",
       "      <td>162</td>\n",
       "      <td>81</td>\n",
       "      <td>81</td>\n",
       "      <td>0</td>\n",
       "      <td>0.500</td>\n",
       "      <td>...</td>\n",
       "      <td>2134895.0</td>\n",
       "      <td>28.1</td>\n",
       "      <td>27.6</td>\n",
       "      <td>44</td>\n",
       "      <td>23</td>\n",
       "      <td>P.Goldschmidt (7.1)</td>\n",
       "      <td>K.Gibson (81-81)</td>\n",
       "      <td>Arizona Diamondbacks</td>\n",
       "      <td>7.1</td>\n",
       "      <td>7.043478</td>\n",
       "    </tr>\n",
       "    <tr>\n",
       "      <th>4</th>\n",
       "      <td>5</td>\n",
       "      <td>5</td>\n",
       "      <td>2012</td>\n",
       "      <td>Arizona Diamondbacks</td>\n",
       "      <td>NL West</td>\n",
       "      <td>162</td>\n",
       "      <td>81</td>\n",
       "      <td>81</td>\n",
       "      <td>0</td>\n",
       "      <td>0.500</td>\n",
       "      <td>...</td>\n",
       "      <td>2177617.0</td>\n",
       "      <td>28.3</td>\n",
       "      <td>27.4</td>\n",
       "      <td>48</td>\n",
       "      <td>23</td>\n",
       "      <td>A.Hill (5.0)</td>\n",
       "      <td>K.Gibson (81-81)</td>\n",
       "      <td>Arizona Diamondbacks</td>\n",
       "      <td>5.0</td>\n",
       "      <td>7.043478</td>\n",
       "    </tr>\n",
       "  </tbody>\n",
       "</table>\n",
       "<p>5 rows × 26 columns</p>\n",
       "</div>"
      ],
      "text/plain": [
       "   Unnamed: 0  Rk  Year                  Team   League  GamePlayed  Wins  \\\n",
       "0           1   1  2016  Arizona Diamondbacks  NL West         162    69   \n",
       "1           2   2  2015  Arizona Diamondbacks  NL West         162    79   \n",
       "2           3   3  2014  Arizona Diamondbacks  NL West         162    64   \n",
       "3           4   4  2013  Arizona Diamondbacks  NL West         162    81   \n",
       "4           5   5  2012  Arizona Diamondbacks  NL West         162    81   \n",
       "\n",
       "   Losses  Ties  WinLoss%       ...        Attendance BatAge  PAge  \\\n",
       "0      93     0     0.426       ...         2036216.0   26.7  26.4   \n",
       "1      83     0     0.488       ...         2080145.0   26.6  27.1   \n",
       "2      98     0     0.395       ...         2073730.0   27.6  28.0   \n",
       "3      81     0     0.500       ...         2134895.0   28.1  27.6   \n",
       "4      81     0     0.500       ...         2177617.0   28.3  27.4   \n",
       "\n",
       "  PlayersInGame  PitchersInGame           Top.Player  \\\n",
       "0            50              29       J.Segura (5.7)   \n",
       "1            50              27  P.Goldschmidt (8.8)   \n",
       "2            52              25  P.Goldschmidt (4.5)   \n",
       "3            44              23  P.Goldschmidt (7.1)   \n",
       "4            48              23         A.Hill (5.0)   \n",
       "\n",
       "                                Managers               current  WAR  \\\n",
       "0                         C.Hale (69-93)  Arizona Diamondbacks  5.7   \n",
       "1                         C.Hale (79-83)  Arizona Diamondbacks  8.8   \n",
       "2  K.Gibson (63-96) and A.Trammell (1-2)  Arizona Diamondbacks  4.5   \n",
       "3                       K.Gibson (81-81)  Arizona Diamondbacks  7.1   \n",
       "4                       K.Gibson (81-81)  Arizona Diamondbacks  5.0   \n",
       "\n",
       "   PitcherPerGame  \n",
       "0        5.586207  \n",
       "1        6.000000  \n",
       "2        6.480000  \n",
       "3        7.043478  \n",
       "4        7.043478  \n",
       "\n",
       "[5 rows x 26 columns]"
      ]
     },
     "execution_count": 20,
     "metadata": {},
     "output_type": "execute_result"
    }
   ],
   "source": [
    "mlb.head()"
   ]
  },
  {
   "cell_type": "code",
   "execution_count": 21,
   "metadata": {},
   "outputs": [
    {
     "data": {
      "text/plain": [
       "0.003963764468291934"
      ]
     },
     "execution_count": 21,
     "metadata": {},
     "output_type": "execute_result"
    }
   ],
   "source": [
    "mlb['Wins'].corr(mlb['PitcherPerGame']) #No correlation(no relationship between the two variables)"
   ]
  },
  {
   "cell_type": "code",
   "execution_count": 22,
   "metadata": {},
   "outputs": [
    {
     "data": {
      "text/plain": [
       "0.32415001663900295"
      ]
     },
     "execution_count": 22,
     "metadata": {},
     "output_type": "execute_result"
    }
   ],
   "source": [
    "mlb['Attendance'].corr(mlb['RunsScored']) \n",
    "#The more Runs Scored the more is attendance, because people like to see scores/actions"
   ]
  },
  {
   "cell_type": "code",
   "execution_count": null,
   "metadata": {},
   "outputs": [],
   "source": []
  }
 ],
 "metadata": {
  "kernelspec": {
   "display_name": "Python 3",
   "language": "python",
   "name": "python3"
  },
  "language_info": {
   "codemirror_mode": {
    "name": "ipython",
    "version": 3
   },
   "file_extension": ".py",
   "mimetype": "text/x-python",
   "name": "python",
   "nbconvert_exporter": "python",
   "pygments_lexer": "ipython3",
   "version": "3.6.5"
  }
 },
 "nbformat": 4,
 "nbformat_minor": 2
}
